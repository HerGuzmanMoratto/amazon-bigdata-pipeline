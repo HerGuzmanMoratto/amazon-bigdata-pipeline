# Jupiter Notebook Script used to check if the main file had more than 5M records.

# Dataset inspection such as check headers and summary statitics overview was performed to confirm dataset's schema. 
